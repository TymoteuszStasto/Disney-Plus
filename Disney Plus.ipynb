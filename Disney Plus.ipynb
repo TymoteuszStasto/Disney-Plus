{
 "cells": [
  {
   "cell_type": "code",
   "execution_count": 35,
   "id": "d6ff8b25",
   "metadata": {},
   "outputs": [],
   "source": [
    "import pandas as pd\n",
    "import matplotlib as plt\n",
    "import matplotlib.pyplot as plt\n",
    "import plotly.express as px"
   ]
  },
  {
   "cell_type": "code",
   "execution_count": 2,
   "id": "50630a99",
   "metadata": {},
   "outputs": [
    {
     "data": {
      "text/html": [
       "<div>\n",
       "<style scoped>\n",
       "    .dataframe tbody tr th:only-of-type {\n",
       "        vertical-align: middle;\n",
       "    }\n",
       "\n",
       "    .dataframe tbody tr th {\n",
       "        vertical-align: top;\n",
       "    }\n",
       "\n",
       "    .dataframe thead th {\n",
       "        text-align: right;\n",
       "    }\n",
       "</style>\n",
       "<table border=\"1\" class=\"dataframe\">\n",
       "  <thead>\n",
       "    <tr style=\"text-align: right;\">\n",
       "      <th></th>\n",
       "      <th>show_id</th>\n",
       "      <th>type</th>\n",
       "      <th>title</th>\n",
       "      <th>director</th>\n",
       "      <th>cast</th>\n",
       "      <th>country</th>\n",
       "      <th>date_added</th>\n",
       "      <th>release_year</th>\n",
       "      <th>rating</th>\n",
       "      <th>duration</th>\n",
       "      <th>listed_in</th>\n",
       "      <th>description</th>\n",
       "    </tr>\n",
       "  </thead>\n",
       "  <tbody>\n",
       "    <tr>\n",
       "      <th>0</th>\n",
       "      <td>s1</td>\n",
       "      <td>Movie</td>\n",
       "      <td>Duck the Halls: A Mickey Mouse Christmas Special</td>\n",
       "      <td>Alonso Ramirez Ramos, Dave Wasson</td>\n",
       "      <td>Chris Diamantopoulos, Tony Anselmo, Tress MacN...</td>\n",
       "      <td>NaN</td>\n",
       "      <td>November 26, 2021</td>\n",
       "      <td>2016</td>\n",
       "      <td>TV-G</td>\n",
       "      <td>23 min</td>\n",
       "      <td>Animation, Family</td>\n",
       "      <td>Join Mickey and the gang as they duck the halls!</td>\n",
       "    </tr>\n",
       "    <tr>\n",
       "      <th>1</th>\n",
       "      <td>s2</td>\n",
       "      <td>Movie</td>\n",
       "      <td>Ernest Saves Christmas</td>\n",
       "      <td>John Cherry</td>\n",
       "      <td>Jim Varney, Noelle Parker, Douglas Seale</td>\n",
       "      <td>NaN</td>\n",
       "      <td>November 26, 2021</td>\n",
       "      <td>1988</td>\n",
       "      <td>PG</td>\n",
       "      <td>91 min</td>\n",
       "      <td>Comedy</td>\n",
       "      <td>Santa Claus passes his magic bag to a new St. ...</td>\n",
       "    </tr>\n",
       "    <tr>\n",
       "      <th>2</th>\n",
       "      <td>s3</td>\n",
       "      <td>Movie</td>\n",
       "      <td>Ice Age: A Mammoth Christmas</td>\n",
       "      <td>Karen Disher</td>\n",
       "      <td>Raymond Albert Romano, John Leguizamo, Denis L...</td>\n",
       "      <td>United States</td>\n",
       "      <td>November 26, 2021</td>\n",
       "      <td>2011</td>\n",
       "      <td>TV-G</td>\n",
       "      <td>23 min</td>\n",
       "      <td>Animation, Comedy, Family</td>\n",
       "      <td>Sid the Sloth is on Santa's naughty list.</td>\n",
       "    </tr>\n",
       "    <tr>\n",
       "      <th>3</th>\n",
       "      <td>s4</td>\n",
       "      <td>Movie</td>\n",
       "      <td>The Queen Family Singalong</td>\n",
       "      <td>Hamish Hamilton</td>\n",
       "      <td>Darren Criss, Adam Lambert, Derek Hough, Alexa...</td>\n",
       "      <td>NaN</td>\n",
       "      <td>November 26, 2021</td>\n",
       "      <td>2021</td>\n",
       "      <td>TV-PG</td>\n",
       "      <td>41 min</td>\n",
       "      <td>Musical</td>\n",
       "      <td>This is real life, not just fantasy!</td>\n",
       "    </tr>\n",
       "    <tr>\n",
       "      <th>4</th>\n",
       "      <td>s5</td>\n",
       "      <td>TV Show</td>\n",
       "      <td>The Beatles: Get Back</td>\n",
       "      <td>NaN</td>\n",
       "      <td>John Lennon, Paul McCartney, George Harrison, ...</td>\n",
       "      <td>NaN</td>\n",
       "      <td>November 25, 2021</td>\n",
       "      <td>2021</td>\n",
       "      <td>NaN</td>\n",
       "      <td>1 Season</td>\n",
       "      <td>Docuseries, Historical, Music</td>\n",
       "      <td>A three-part documentary from Peter Jackson ca...</td>\n",
       "    </tr>\n",
       "    <tr>\n",
       "      <th>...</th>\n",
       "      <td>...</td>\n",
       "      <td>...</td>\n",
       "      <td>...</td>\n",
       "      <td>...</td>\n",
       "      <td>...</td>\n",
       "      <td>...</td>\n",
       "      <td>...</td>\n",
       "      <td>...</td>\n",
       "      <td>...</td>\n",
       "      <td>...</td>\n",
       "      <td>...</td>\n",
       "      <td>...</td>\n",
       "    </tr>\n",
       "    <tr>\n",
       "      <th>1445</th>\n",
       "      <td>s1446</td>\n",
       "      <td>Movie</td>\n",
       "      <td>X-Men Origins: Wolverine</td>\n",
       "      <td>Gavin Hood</td>\n",
       "      <td>Hugh Jackman, Liev Schreiber, Danny Huston, wi...</td>\n",
       "      <td>United States, United Kingdom</td>\n",
       "      <td>June 4, 2021</td>\n",
       "      <td>2009</td>\n",
       "      <td>PG-13</td>\n",
       "      <td>108 min</td>\n",
       "      <td>Action-Adventure, Family, Science Fiction</td>\n",
       "      <td>Wolverine unites with legendary X-Men to fight...</td>\n",
       "    </tr>\n",
       "    <tr>\n",
       "      <th>1446</th>\n",
       "      <td>s1447</td>\n",
       "      <td>Movie</td>\n",
       "      <td>Night at the Museum: Battle of the Smithsonian</td>\n",
       "      <td>Shawn Levy</td>\n",
       "      <td>Ben Stiller, Amy Adams, Owen Wilson, Hank Azar...</td>\n",
       "      <td>United States, Canada</td>\n",
       "      <td>April 2, 2021</td>\n",
       "      <td>2009</td>\n",
       "      <td>PG</td>\n",
       "      <td>106 min</td>\n",
       "      <td>Action-Adventure, Comedy, Family</td>\n",
       "      <td>Larry Daley returns to rescue some old friends...</td>\n",
       "    </tr>\n",
       "    <tr>\n",
       "      <th>1447</th>\n",
       "      <td>s1448</td>\n",
       "      <td>Movie</td>\n",
       "      <td>Eddie the Eagle</td>\n",
       "      <td>Dexter Fletcher</td>\n",
       "      <td>Tom Costello, Jo Hartley, Keith Allen, Dickon ...</td>\n",
       "      <td>United Kingdom, Germany, United States</td>\n",
       "      <td>December 18, 2020</td>\n",
       "      <td>2016</td>\n",
       "      <td>PG-13</td>\n",
       "      <td>107 min</td>\n",
       "      <td>Biographical, Comedy, Drama</td>\n",
       "      <td>True story of Eddie Edwards, a British ski-jum...</td>\n",
       "    </tr>\n",
       "    <tr>\n",
       "      <th>1448</th>\n",
       "      <td>s1449</td>\n",
       "      <td>Movie</td>\n",
       "      <td>Bend It Like Beckham</td>\n",
       "      <td>Gurinder Chadha</td>\n",
       "      <td>Parminder Nagra, Keira Knightley, Jonathan Rhy...</td>\n",
       "      <td>United Kingdom, Germany, United States</td>\n",
       "      <td>September 18, 2020</td>\n",
       "      <td>2003</td>\n",
       "      <td>PG-13</td>\n",
       "      <td>112 min</td>\n",
       "      <td>Buddy, Comedy, Coming of Age</td>\n",
       "      <td>Despite the wishes of their traditional famili...</td>\n",
       "    </tr>\n",
       "    <tr>\n",
       "      <th>1449</th>\n",
       "      <td>s1450</td>\n",
       "      <td>Movie</td>\n",
       "      <td>Captain Sparky vs. The Flying Saucers</td>\n",
       "      <td>Mark Waring</td>\n",
       "      <td>Charlie Tahan</td>\n",
       "      <td>United States</td>\n",
       "      <td>April 1, 2020</td>\n",
       "      <td>2012</td>\n",
       "      <td>TV-G</td>\n",
       "      <td>2 min</td>\n",
       "      <td>Action-Adventure, Animals &amp; Nature, Animation</td>\n",
       "      <td>View one of Sparky's favorite home movies.</td>\n",
       "    </tr>\n",
       "  </tbody>\n",
       "</table>\n",
       "<p>1450 rows × 12 columns</p>\n",
       "</div>"
      ],
      "text/plain": [
       "     show_id     type                                             title  \\\n",
       "0         s1    Movie  Duck the Halls: A Mickey Mouse Christmas Special   \n",
       "1         s2    Movie                            Ernest Saves Christmas   \n",
       "2         s3    Movie                      Ice Age: A Mammoth Christmas   \n",
       "3         s4    Movie                        The Queen Family Singalong   \n",
       "4         s5  TV Show                             The Beatles: Get Back   \n",
       "...      ...      ...                                               ...   \n",
       "1445   s1446    Movie                          X-Men Origins: Wolverine   \n",
       "1446   s1447    Movie    Night at the Museum: Battle of the Smithsonian   \n",
       "1447   s1448    Movie                                   Eddie the Eagle   \n",
       "1448   s1449    Movie                              Bend It Like Beckham   \n",
       "1449   s1450    Movie             Captain Sparky vs. The Flying Saucers   \n",
       "\n",
       "                               director  \\\n",
       "0     Alonso Ramirez Ramos, Dave Wasson   \n",
       "1                           John Cherry   \n",
       "2                          Karen Disher   \n",
       "3                       Hamish Hamilton   \n",
       "4                                   NaN   \n",
       "...                                 ...   \n",
       "1445                         Gavin Hood   \n",
       "1446                         Shawn Levy   \n",
       "1447                    Dexter Fletcher   \n",
       "1448                    Gurinder Chadha   \n",
       "1449                        Mark Waring   \n",
       "\n",
       "                                                   cast  \\\n",
       "0     Chris Diamantopoulos, Tony Anselmo, Tress MacN...   \n",
       "1              Jim Varney, Noelle Parker, Douglas Seale   \n",
       "2     Raymond Albert Romano, John Leguizamo, Denis L...   \n",
       "3     Darren Criss, Adam Lambert, Derek Hough, Alexa...   \n",
       "4     John Lennon, Paul McCartney, George Harrison, ...   \n",
       "...                                                 ...   \n",
       "1445  Hugh Jackman, Liev Schreiber, Danny Huston, wi...   \n",
       "1446  Ben Stiller, Amy Adams, Owen Wilson, Hank Azar...   \n",
       "1447  Tom Costello, Jo Hartley, Keith Allen, Dickon ...   \n",
       "1448  Parminder Nagra, Keira Knightley, Jonathan Rhy...   \n",
       "1449                                      Charlie Tahan   \n",
       "\n",
       "                                     country          date_added  \\\n",
       "0                                        NaN   November 26, 2021   \n",
       "1                                        NaN   November 26, 2021   \n",
       "2                              United States   November 26, 2021   \n",
       "3                                        NaN   November 26, 2021   \n",
       "4                                        NaN   November 25, 2021   \n",
       "...                                      ...                 ...   \n",
       "1445           United States, United Kingdom        June 4, 2021   \n",
       "1446                   United States, Canada       April 2, 2021   \n",
       "1447  United Kingdom, Germany, United States   December 18, 2020   \n",
       "1448  United Kingdom, Germany, United States  September 18, 2020   \n",
       "1449                           United States       April 1, 2020   \n",
       "\n",
       "      release_year rating  duration  \\\n",
       "0             2016   TV-G    23 min   \n",
       "1             1988     PG    91 min   \n",
       "2             2011   TV-G    23 min   \n",
       "3             2021  TV-PG    41 min   \n",
       "4             2021    NaN  1 Season   \n",
       "...            ...    ...       ...   \n",
       "1445          2009  PG-13   108 min   \n",
       "1446          2009     PG   106 min   \n",
       "1447          2016  PG-13   107 min   \n",
       "1448          2003  PG-13   112 min   \n",
       "1449          2012   TV-G     2 min   \n",
       "\n",
       "                                          listed_in  \\\n",
       "0                                 Animation, Family   \n",
       "1                                            Comedy   \n",
       "2                         Animation, Comedy, Family   \n",
       "3                                           Musical   \n",
       "4                     Docuseries, Historical, Music   \n",
       "...                                             ...   \n",
       "1445      Action-Adventure, Family, Science Fiction   \n",
       "1446               Action-Adventure, Comedy, Family   \n",
       "1447                    Biographical, Comedy, Drama   \n",
       "1448                   Buddy, Comedy, Coming of Age   \n",
       "1449  Action-Adventure, Animals & Nature, Animation   \n",
       "\n",
       "                                            description  \n",
       "0      Join Mickey and the gang as they duck the halls!  \n",
       "1     Santa Claus passes his magic bag to a new St. ...  \n",
       "2             Sid the Sloth is on Santa's naughty list.  \n",
       "3                  This is real life, not just fantasy!  \n",
       "4     A three-part documentary from Peter Jackson ca...  \n",
       "...                                                 ...  \n",
       "1445  Wolverine unites with legendary X-Men to fight...  \n",
       "1446  Larry Daley returns to rescue some old friends...  \n",
       "1447  True story of Eddie Edwards, a British ski-jum...  \n",
       "1448  Despite the wishes of their traditional famili...  \n",
       "1449         View one of Sparky's favorite home movies.  \n",
       "\n",
       "[1450 rows x 12 columns]"
      ]
     },
     "execution_count": 2,
     "metadata": {},
     "output_type": "execute_result"
    }
   ],
   "source": [
    "df = pd.read_csv(\"disney_plus_titles.csv\")\n",
    "df"
   ]
  },
  {
   "cell_type": "code",
   "execution_count": 3,
   "id": "9fb8ac4b",
   "metadata": {},
   "outputs": [
    {
     "data": {
      "text/plain": [
       "show_id         object\n",
       "type            object\n",
       "title           object\n",
       "director        object\n",
       "cast            object\n",
       "country         object\n",
       "date_added      object\n",
       "release_year     int64\n",
       "rating          object\n",
       "duration        object\n",
       "listed_in       object\n",
       "description     object\n",
       "dtype: object"
      ]
     },
     "execution_count": 3,
     "metadata": {},
     "output_type": "execute_result"
    }
   ],
   "source": [
    "df.dtypes"
   ]
  },
  {
   "cell_type": "code",
   "execution_count": 4,
   "id": "2a243d16",
   "metadata": {},
   "outputs": [
    {
     "data": {
      "text/html": [
       "<div>\n",
       "<style scoped>\n",
       "    .dataframe tbody tr th:only-of-type {\n",
       "        vertical-align: middle;\n",
       "    }\n",
       "\n",
       "    .dataframe tbody tr th {\n",
       "        vertical-align: top;\n",
       "    }\n",
       "\n",
       "    .dataframe thead th {\n",
       "        text-align: right;\n",
       "    }\n",
       "</style>\n",
       "<table border=\"1\" class=\"dataframe\">\n",
       "  <thead>\n",
       "    <tr style=\"text-align: right;\">\n",
       "      <th></th>\n",
       "      <th>show_id</th>\n",
       "      <th>rating</th>\n",
       "    </tr>\n",
       "  </thead>\n",
       "  <tbody>\n",
       "    <tr>\n",
       "      <th>0</th>\n",
       "      <td>s1</td>\n",
       "      <td>TV-G</td>\n",
       "    </tr>\n",
       "    <tr>\n",
       "      <th>1</th>\n",
       "      <td>s2</td>\n",
       "      <td>PG</td>\n",
       "    </tr>\n",
       "    <tr>\n",
       "      <th>2</th>\n",
       "      <td>s3</td>\n",
       "      <td>TV-G</td>\n",
       "    </tr>\n",
       "    <tr>\n",
       "      <th>3</th>\n",
       "      <td>s4</td>\n",
       "      <td>TV-PG</td>\n",
       "    </tr>\n",
       "    <tr>\n",
       "      <th>4</th>\n",
       "      <td>s5</td>\n",
       "      <td>NaN</td>\n",
       "    </tr>\n",
       "    <tr>\n",
       "      <th>...</th>\n",
       "      <td>...</td>\n",
       "      <td>...</td>\n",
       "    </tr>\n",
       "    <tr>\n",
       "      <th>1445</th>\n",
       "      <td>s1446</td>\n",
       "      <td>PG-13</td>\n",
       "    </tr>\n",
       "    <tr>\n",
       "      <th>1446</th>\n",
       "      <td>s1447</td>\n",
       "      <td>PG</td>\n",
       "    </tr>\n",
       "    <tr>\n",
       "      <th>1447</th>\n",
       "      <td>s1448</td>\n",
       "      <td>PG-13</td>\n",
       "    </tr>\n",
       "    <tr>\n",
       "      <th>1448</th>\n",
       "      <td>s1449</td>\n",
       "      <td>PG-13</td>\n",
       "    </tr>\n",
       "    <tr>\n",
       "      <th>1449</th>\n",
       "      <td>s1450</td>\n",
       "      <td>TV-G</td>\n",
       "    </tr>\n",
       "  </tbody>\n",
       "</table>\n",
       "<p>1450 rows × 2 columns</p>\n",
       "</div>"
      ],
      "text/plain": [
       "     show_id rating\n",
       "0         s1   TV-G\n",
       "1         s2     PG\n",
       "2         s3   TV-G\n",
       "3         s4  TV-PG\n",
       "4         s5    NaN\n",
       "...      ...    ...\n",
       "1445   s1446  PG-13\n",
       "1446   s1447     PG\n",
       "1447   s1448  PG-13\n",
       "1448   s1449  PG-13\n",
       "1449   s1450   TV-G\n",
       "\n",
       "[1450 rows x 2 columns]"
      ]
     },
     "execution_count": 4,
     "metadata": {},
     "output_type": "execute_result"
    }
   ],
   "source": [
    "df1 = df[['show_id', 'rating']]\n",
    "df1\n",
    "\n",
    "\n"
   ]
  },
  {
   "cell_type": "code",
   "execution_count": 5,
   "id": "86a52b1e",
   "metadata": {},
   "outputs": [
    {
     "data": {
      "text/html": [
       "<div>\n",
       "<style scoped>\n",
       "    .dataframe tbody tr th:only-of-type {\n",
       "        vertical-align: middle;\n",
       "    }\n",
       "\n",
       "    .dataframe tbody tr th {\n",
       "        vertical-align: top;\n",
       "    }\n",
       "\n",
       "    .dataframe thead th {\n",
       "        text-align: right;\n",
       "    }\n",
       "</style>\n",
       "<table border=\"1\" class=\"dataframe\">\n",
       "  <thead>\n",
       "    <tr style=\"text-align: right;\">\n",
       "      <th></th>\n",
       "      <th>rating</th>\n",
       "      <th>show_id</th>\n",
       "    </tr>\n",
       "  </thead>\n",
       "  <tbody>\n",
       "    <tr>\n",
       "      <th>4</th>\n",
       "      <td>TV-G</td>\n",
       "      <td>318</td>\n",
       "    </tr>\n",
       "    <tr>\n",
       "      <th>5</th>\n",
       "      <td>TV-PG</td>\n",
       "      <td>301</td>\n",
       "    </tr>\n",
       "    <tr>\n",
       "      <th>0</th>\n",
       "      <td>G</td>\n",
       "      <td>253</td>\n",
       "    </tr>\n",
       "    <tr>\n",
       "      <th>1</th>\n",
       "      <td>PG</td>\n",
       "      <td>236</td>\n",
       "    </tr>\n",
       "    <tr>\n",
       "      <th>7</th>\n",
       "      <td>TV-Y7</td>\n",
       "      <td>131</td>\n",
       "    </tr>\n",
       "    <tr>\n",
       "      <th>3</th>\n",
       "      <td>TV-14</td>\n",
       "      <td>79</td>\n",
       "    </tr>\n",
       "    <tr>\n",
       "      <th>2</th>\n",
       "      <td>PG-13</td>\n",
       "      <td>66</td>\n",
       "    </tr>\n",
       "    <tr>\n",
       "      <th>6</th>\n",
       "      <td>TV-Y</td>\n",
       "      <td>50</td>\n",
       "    </tr>\n",
       "    <tr>\n",
       "      <th>8</th>\n",
       "      <td>TV-Y7-FV</td>\n",
       "      <td>13</td>\n",
       "    </tr>\n",
       "  </tbody>\n",
       "</table>\n",
       "</div>"
      ],
      "text/plain": [
       "     rating  show_id\n",
       "4      TV-G      318\n",
       "5     TV-PG      301\n",
       "0         G      253\n",
       "1        PG      236\n",
       "7     TV-Y7      131\n",
       "3     TV-14       79\n",
       "2     PG-13       66\n",
       "6      TV-Y       50\n",
       "8  TV-Y7-FV       13"
      ]
     },
     "execution_count": 5,
     "metadata": {},
     "output_type": "execute_result"
    }
   ],
   "source": [
    "df_grouped_by_rating = df1.groupby(by=\"rating\").count().reset_index()\n",
    "df_grouped_by_rating\n",
    "\n",
    "df_grouped_by_rating = df_grouped_by_rating.sort_values(by=\"show_id\", ascending=False)\n",
    "df_grouped_by_rating"
   ]
  },
  {
   "cell_type": "code",
   "execution_count": 6,
   "id": "20b8af61",
   "metadata": {},
   "outputs": [
    {
     "data": {
      "image/png": "[encoded data removed]",
      "text/plain": [
       "<Figure size 1000x500 with 1 Axes>"
      ]
     },
     "metadata": {},
     "output_type": "display_data"
    }
   ],
   "source": [
    "fig = plt.figure(figsize = (10, 5))\n",
    "plt.bar(df_grouped_by_rating['rating'], df_grouped_by_rating['show_id'], color='navy', width= 0.4)\n",
    "plt.xlabel(\"Rating\")\n",
    "plt.ylabel(\"Number of shows and films\")\n",
    "plt.title(\"Number of shows per Rating\")\n",
    "\n",
    "\n",
    "plt.show()\n"
   ]
  },
  {
   "cell_type": "code",
   "execution_count": 20,
   "id": "7fc35267",
   "metadata": {},
   "outputs": [
    {
     "data": {
      "text/html": [
       "<div>\n",
       "<style scoped>\n",
       "    .dataframe tbody tr th:only-of-type {\n",
       "        vertical-align: middle;\n",
       "    }\n",
       "\n",
       "    .dataframe tbody tr th {\n",
       "        vertical-align: top;\n",
       "    }\n",
       "\n",
       "    .dataframe thead th {\n",
       "        text-align: right;\n",
       "    }\n",
       "</style>\n",
       "<table border=\"1\" class=\"dataframe\">\n",
       "  <thead>\n",
       "    <tr style=\"text-align: right;\">\n",
       "      <th></th>\n",
       "      <th>type</th>\n",
       "      <th>show_id</th>\n",
       "    </tr>\n",
       "  </thead>\n",
       "  <tbody>\n",
       "    <tr>\n",
       "      <th>0</th>\n",
       "      <td>Movie</td>\n",
       "      <td>1052</td>\n",
       "    </tr>\n",
       "    <tr>\n",
       "      <th>1</th>\n",
       "      <td>TV Show</td>\n",
       "      <td>398</td>\n",
       "    </tr>\n",
       "  </tbody>\n",
       "</table>\n",
       "</div>"
      ],
      "text/plain": [
       "      type  show_id\n",
       "0    Movie     1052\n",
       "1  TV Show      398"
      ]
     },
     "execution_count": 20,
     "metadata": {},
     "output_type": "execute_result"
    }
   ],
   "source": [
    "df2 = df[['show_id', 'type']]\n",
    "\n",
    "df_grouped_by_type = df2.groupby(by=\"type\").count().reset_index()\n",
    "df_grouped_by_type\n",
    "\n"
   ]
  },
  {
   "cell_type": "code",
   "execution_count": 27,
   "id": "5f853674",
   "metadata": {},
   "outputs": [
    {
     "data": {
      "text/html": [
       "<div>\n",
       "<style scoped>\n",
       "    .dataframe tbody tr th:only-of-type {\n",
       "        vertical-align: middle;\n",
       "    }\n",
       "\n",
       "    .dataframe tbody tr th {\n",
       "        vertical-align: top;\n",
       "    }\n",
       "\n",
       "    .dataframe thead th {\n",
       "        text-align: right;\n",
       "    }\n",
       "</style>\n",
       "<table border=\"1\" class=\"dataframe\">\n",
       "  <thead>\n",
       "    <tr style=\"text-align: right;\">\n",
       "      <th></th>\n",
       "      <th>release_year</th>\n",
       "      <th>type</th>\n",
       "      <th>show_id</th>\n",
       "    </tr>\n",
       "  </thead>\n",
       "  <tbody>\n",
       "    <tr>\n",
       "      <th>0</th>\n",
       "      <td>1928</td>\n",
       "      <td>Movie</td>\n",
       "      <td>1</td>\n",
       "    </tr>\n",
       "    <tr>\n",
       "      <th>1</th>\n",
       "      <td>1932</td>\n",
       "      <td>Movie</td>\n",
       "      <td>3</td>\n",
       "    </tr>\n",
       "    <tr>\n",
       "      <th>2</th>\n",
       "      <td>1933</td>\n",
       "      <td>Movie</td>\n",
       "      <td>3</td>\n",
       "    </tr>\n",
       "    <tr>\n",
       "      <th>3</th>\n",
       "      <td>1934</td>\n",
       "      <td>Movie</td>\n",
       "      <td>4</td>\n",
       "    </tr>\n",
       "    <tr>\n",
       "      <th>4</th>\n",
       "      <td>1935</td>\n",
       "      <td>Movie</td>\n",
       "      <td>4</td>\n",
       "    </tr>\n",
       "    <tr>\n",
       "      <th>...</th>\n",
       "      <td>...</td>\n",
       "      <td>...</td>\n",
       "      <td>...</td>\n",
       "    </tr>\n",
       "    <tr>\n",
       "      <th>125</th>\n",
       "      <td>2019</td>\n",
       "      <td>TV Show</td>\n",
       "      <td>38</td>\n",
       "    </tr>\n",
       "    <tr>\n",
       "      <th>126</th>\n",
       "      <td>2020</td>\n",
       "      <td>Movie</td>\n",
       "      <td>74</td>\n",
       "    </tr>\n",
       "    <tr>\n",
       "      <th>127</th>\n",
       "      <td>2020</td>\n",
       "      <td>TV Show</td>\n",
       "      <td>40</td>\n",
       "    </tr>\n",
       "    <tr>\n",
       "      <th>128</th>\n",
       "      <td>2021</td>\n",
       "      <td>Movie</td>\n",
       "      <td>70</td>\n",
       "    </tr>\n",
       "    <tr>\n",
       "      <th>129</th>\n",
       "      <td>2021</td>\n",
       "      <td>TV Show</td>\n",
       "      <td>55</td>\n",
       "    </tr>\n",
       "  </tbody>\n",
       "</table>\n",
       "<p>130 rows × 3 columns</p>\n",
       "</div>"
      ],
      "text/plain": [
       "     release_year     type  show_id\n",
       "0            1928    Movie        1\n",
       "1            1932    Movie        3\n",
       "2            1933    Movie        3\n",
       "3            1934    Movie        4\n",
       "4            1935    Movie        4\n",
       "..            ...      ...      ...\n",
       "125          2019  TV Show       38\n",
       "126          2020    Movie       74\n",
       "127          2020  TV Show       40\n",
       "128          2021    Movie       70\n",
       "129          2021  TV Show       55\n",
       "\n",
       "[130 rows x 3 columns]"
      ]
     },
     "execution_count": 27,
     "metadata": {},
     "output_type": "execute_result"
    }
   ],
   "source": [
    "df3 = df[['release_year', 'type', 'show_id']]\n",
    "\n",
    "df_grouped_type_per_year = df3.groupby(['release_year', 'type']).count().reset_index()\n",
    "\n",
    "df_grouped_type_per_year\n",
    "\n"
   ]
  },
  {
   "cell_type": "code",
   "execution_count": 40,
   "id": "80318f05",
   "metadata": {},
   "outputs": [
    {
     "data": {
      "application/vnd.plotly.v1+json": {
       "config": {
        "plotlyServerURL": "https://plot.ly"
       },
       "data": [
        {
         "hovertemplate": "<b>%{hovertext}</b><br><br>type=Movie<br>release_year=%{x}<br>show_id=%{y}<extra></extra>",
         "hovertext": [
          1928,
          1932,
          1933,
          1934,
          1935,
          1936,
          1937,
          1938,
          1939,
          1940,
          1941,
          1942,
          1943,
          1944,
          1945,
          1946,
          1947,
          1948,
          1949,
          1950,
          1951,
          1952,
          1953,
          1954,
          1955,
          1956,
          1957,
          1959,
          1960,
          1961,
          1962,
          1963,
          1964,
          1965,
          1966,
          1967,
          1968,
          1969,
          1970,
          1971,
          1972,
          1973,
          1974,
          1975,
          1976,
          1977,
          1978,
          1979,
          1980,
          1981,
          1982,
          1983,
          1984,
          1985,
          1986,
          1987,
          1988,
          1989,
          1990,
          1991,
          1992,
          1993,
          1994,
          1995,
          1996,
          1997,
          1998,
          1999,
          2000,
          2001,
          2002,
          2003,
          2004,
          2005,
          2006,
          2007,
          2008,
          2009,
          2010,
          2011,
          2012,
          2013,
          2014,
          2015,
          2016,
          2017,
          2018,
          2019,
          2020,
          2021
         ],
         "legendgroup": "Movie",
         "marker": {
          "color": "#636efa",
          "symbol": "circle"
         },
         "mode": "markers",
         "name": "Movie",
         "orientation": "v",
         "showlegend": true,
         "type": "scatter",
         "x": [
          1928,
          1932,
          1933,
          1934,
          1935,
          1936,
          1937,
          1938,
          1939,
          1940,
          1941,
          1942,
          1943,
          1944,
          1945,
          1946,
          1947,
          1948,
          1949,
          1950,
          1951,
          1952,
          1953,
          1954,
          1955,
          1956,
          1957,
          1959,
          1960,
          1961,
          1962,
          1963,
          1964,
          1965,
          1966,
          1967,
          1968,
          1969,
          1970,
          1971,
          1972,
          1973,
          1974,
          1975,
          1976,
          1977,
          1978,
          1979,
          1980,
          1981,
          1982,
          1983,
          1984,
          1985,
          1986,
          1987,
          1988,
          1989,
          1990,
          1991,
          1992,
          1993,
          1994,
          1995,
          1996,
          1997,
          1998,
          1999,
          2000,
          2001,
          2002,
          2003,
          2004,
          2005,
          2006,
          2007,
          2008,
          2009,
          2010,
          2011,
          2012,
          2013,
          2014,
          2015,
          2016,
          2017,
          2018,
          2019,
          2020,
          2021
         ],
         "xaxis": "x",
         "y": [
          1,
          3,
          3,
          4,
          4,
          6,
          6,
          5,
          5,
          7,
          7,
          6,
          2,
          1,
          1,
          2,
          5,
          5,
          5,
          6,
          4,
          8,
          6,
          4,
          7,
          4,
          4,
          5,
          3,
          5,
          3,
          3,
          3,
          3,
          2,
          2,
          1,
          4,
          1,
          3,
          3,
          1,
          4,
          4,
          3,
          6,
          4,
          4,
          4,
          3,
          1,
          2,
          4,
          5,
          7,
          6,
          5,
          4,
          4,
          4,
          7,
          12,
          10,
          12,
          11,
          13,
          17,
          19,
          22,
          16,
          20,
          28,
          23,
          28,
          29,
          20,
          25,
          32,
          30,
          35,
          29,
          20,
          34,
          23,
          30,
          33,
          32,
          61,
          74,
          70
         ],
         "yaxis": "y"
        },
        {
         "hovertemplate": "<b>%{hovertext}</b><br><br>type=TV Show<br>release_year=%{x}<br>show_id=%{y}<extra></extra>",
         "hovertext": [
          1955,
          1973,
          1976,
          1979,
          1982,
          1985,
          1988,
          1989,
          1990,
          1991,
          1992,
          1993,
          1994,
          1995,
          1996,
          1997,
          1998,
          1999,
          2000,
          2001,
          2002,
          2003,
          2004,
          2005,
          2006,
          2007,
          2008,
          2009,
          2010,
          2011,
          2012,
          2013,
          2014,
          2015,
          2016,
          2017,
          2018,
          2019,
          2020,
          2021
         ],
         "legendgroup": "TV Show",
         "marker": {
          "color": "#EF553B",
          "symbol": "circle"
         },
         "mode": "markers",
         "name": "TV Show",
         "orientation": "v",
         "showlegend": true,
         "type": "scatter",
         "x": [
          1955,
          1973,
          1976,
          1979,
          1982,
          1985,
          1988,
          1989,
          1990,
          1991,
          1992,
          1993,
          1994,
          1995,
          1996,
          1997,
          1998,
          1999,
          2000,
          2001,
          2002,
          2003,
          2004,
          2005,
          2006,
          2007,
          2008,
          2009,
          2010,
          2011,
          2012,
          2013,
          2014,
          2015,
          2016,
          2017,
          2018,
          2019,
          2020,
          2021
         ],
         "xaxis": "x",
         "y": [
          2,
          1,
          1,
          1,
          1,
          3,
          1,
          3,
          1,
          2,
          3,
          2,
          4,
          1,
          6,
          4,
          3,
          3,
          4,
          2,
          1,
          1,
          5,
          4,
          3,
          3,
          8,
          3,
          9,
          17,
          12,
          12,
          16,
          23,
          31,
          36,
          33,
          38,
          40,
          55
         ],
         "yaxis": "y"
        }
       ],
       "layout": {
        "legend": {
         "title": {
          "text": "type"
         },
         "tracegroupgap": 0
        },
        "margin": {
         "t": 60
        },
        "template": {
         "data": {
          "bar": [
           {
            "error_x": {
             "color": "#2a3f5f"
            },
            "error_y": {
             "color": "#2a3f5f"
            },
            "marker": {
             "line": {
              "color": "#E5ECF6",
              "width": 0.5
             },
             "pattern": {
              "fillmode": "overlay",
              "size": 10,
              "solidity": 0.2
             }
            },
            "type": "bar"
           }
          ],
          "barpolar": [
           {
            "marker": {
             "line": {
              "color": "#E5ECF6",
              "width": 0.5
             },
             "pattern": {
              "fillmode": "overlay",
              "size": 10,
              "solidity": 0.2
             }
            },
            "type": "barpolar"
           }
          ],
          "carpet": [
           {
            "aaxis": {
             "endlinecolor": "#2a3f5f",
             "gridcolor": "white",
             "linecolor": "white",
             "minorgridcolor": "white",
             "startlinecolor": "#2a3f5f"
            },
            "baxis": {
             "endlinecolor": "#2a3f5f",
             "gridcolor": "white",
             "linecolor": "white",
             "minorgridcolor": "white",
             "startlinecolor": "#2a3f5f"
            },
            "type": "carpet"
           }
          ],
          "choropleth": [
           {
            "colorbar": {
             "outlinewidth": 0,
             "ticks": ""
            },
            "type": "choropleth"
           }
          ],
          "contour": [
           {
            "colorbar": {
             "outlinewidth": 0,
             "ticks": ""
            },
            "colorscale": [
             [
              0,
              "#0d0887"
             ],
             [
              0.1111111111111111,
              "#46039f"
             ],
             [
              0.2222222222222222,
              "#7201a8"
             ],
             [
              0.3333333333333333,
              "#9c179e"
             ],
             [
              0.4444444444444444,
              "#bd3786"
             ],
             [
              0.5555555555555556,
              "#d8576b"
             ],
             [
              0.6666666666666666,
              "#ed7953"
             ],
             [
              0.7777777777777778,
              "#fb9f3a"
             ],
             [
              0.8888888888888888,
              "#fdca26"
             ],
             [
              1,
              "#f0f921"
             ]
            ],
            "type": "contour"
           }
          ],
          "contourcarpet": [
           {
            "colorbar": {
             "outlinewidth": 0,
             "ticks": ""
            },
            "type": "contourcarpet"
           }
          ],
          "heatmap": [
           {
            "colorbar": {
             "outlinewidth": 0,
             "ticks": ""
            },
            "colorscale": [
             [
              0,
              "#0d0887"
             ],
             [
              0.1111111111111111,
              "#46039f"
             ],
             [
              0.2222222222222222,
              "#7201a8"
             ],
             [
              0.3333333333333333,
              "#9c179e"
             ],
             [
              0.4444444444444444,
              "#bd3786"
             ],
             [
              0.5555555555555556,
              "#d8576b"
             ],
             [
              0.6666666666666666,
              "#ed7953"
             ],
             [
              0.7777777777777778,
              "#fb9f3a"
             ],
             [
              0.8888888888888888,
              "#fdca26"
             ],
             [
              1,
              "#f0f921"
             ]
            ],
            "type": "heatmap"
           }
          ],
          "heatmapgl": [
           {
            "colorbar": {
             "outlinewidth": 0,
             "ticks": ""
            },
            "colorscale": [
             [
              0,
              "#0d0887"
             ],
             [
              0.1111111111111111,
              "#46039f"
             ],
             [
              0.2222222222222222,
              "#7201a8"
             ],
             [
              0.3333333333333333,
              "#9c179e"
             ],
             [
              0.4444444444444444,
              "#bd3786"
             ],
             [
              0.5555555555555556,
              "#d8576b"
             ],
             [
              0.6666666666666666,
              "#ed7953"
             ],
             [
              0.7777777777777778,
              "#fb9f3a"
             ],
             [
              0.8888888888888888,
              "#fdca26"
             ],
             [
              1,
              "#f0f921"
             ]
            ],
            "type": "heatmapgl"
           }
          ],
          "histogram": [
           {
            "marker": {
             "pattern": {
              "fillmode": "overlay",
              "size": 10,
              "solidity": 0.2
             }
            },
            "type": "histogram"
           }
          ],
          "histogram2d": [
           {
            "colorbar": {
             "outlinewidth": 0,
             "ticks": ""
            },
            "colorscale": [
             [
              0,
              "#0d0887"
             ],
             [
              0.1111111111111111,
              "#46039f"
             ],
             [
              0.2222222222222222,
              "#7201a8"
             ],
             [
              0.3333333333333333,
              "#9c179e"
             ],
             [
              0.4444444444444444,
              "#bd3786"
             ],
             [
              0.5555555555555556,
              "#d8576b"
             ],
             [
              0.6666666666666666,
              "#ed7953"
             ],
             [
              0.7777777777777778,
              "#fb9f3a"
             ],
             [
              0.8888888888888888,
              "#fdca26"
             ],
             [
              1,
              "#f0f921"
             ]
            ],
            "type": "histogram2d"
           }
          ],
          "histogram2dcontour": [
           {
            "colorbar": {
             "outlinewidth": 0,
             "ticks": ""
            },
            "colorscale": [
             [
              0,
              "#0d0887"
             ],
             [
              0.1111111111111111,
              "#46039f"
             ],
             [
              0.2222222222222222,
              "#7201a8"
             ],
             [
              0.3333333333333333,
              "#9c179e"
             ],
             [
              0.4444444444444444,
              "#bd3786"
             ],
             [
              0.5555555555555556,
              "#d8576b"
             ],
             [
              0.6666666666666666,
              "#ed7953"
             ],
             [
              0.7777777777777778,
              "#fb9f3a"
             ],
             [
              0.8888888888888888,
              "#fdca26"
             ],
             [
              1,
              "#f0f921"
             ]
            ],
            "type": "histogram2dcontour"
           }
          ],
          "mesh3d": [
           {
            "colorbar": {
             "outlinewidth": 0,
             "ticks": ""
            },
            "type": "mesh3d"
           }
          ],
          "parcoords": [
           {
            "line": {
             "colorbar": {
              "outlinewidth": 0,
              "ticks": ""
             }
            },
            "type": "parcoords"
           }
          ],
          "pie": [
           {
            "automargin": true,
            "type": "pie"
           }
          ],
          "scatter": [
           {
            "fillpattern": {
             "fillmode": "overlay",
             "size": 10,
             "solidity": 0.2
            },
            "type": "scatter"
           }
          ],
          "scatter3d": [
           {
            "line": {
             "colorbar": {
              "outlinewidth": 0,
              "ticks": ""
             }
            },
            "marker": {
             "colorbar": {
              "outlinewidth": 0,
              "ticks": ""
             }
            },
            "type": "scatter3d"
           }
          ],
          "scattercarpet": [
           {
            "marker": {
             "colorbar": {
              "outlinewidth": 0,
              "ticks": ""
             }
            },
            "type": "scattercarpet"
           }
          ],
          "scattergeo": [
           {
            "marker": {
             "colorbar": {
              "outlinewidth": 0,
              "ticks": ""
             }
            },
            "type": "scattergeo"
           }
          ],
          "scattergl": [
           {
            "marker": {
             "colorbar": {
              "outlinewidth": 0,
              "ticks": ""
             }
            },
            "type": "scattergl"
           }
          ],
          "scattermapbox": [
           {
            "marker": {
             "colorbar": {
              "outlinewidth": 0,
              "ticks": ""
             }
            },
            "type": "scattermapbox"
           }
          ],
          "scatterpolar": [
           {
            "marker": {
             "colorbar": {
              "outlinewidth": 0,
              "ticks": ""
             }
            },
            "type": "scatterpolar"
           }
          ],
          "scatterpolargl": [
           {
            "marker": {
             "colorbar": {
              "outlinewidth": 0,
              "ticks": ""
             }
            },
            "type": "scatterpolargl"
           }
          ],
          "scatterternary": [
           {
            "marker": {
             "colorbar": {
              "outlinewidth": 0,
              "ticks": ""
             }
            },
            "type": "scatterternary"
           }
          ],
          "surface": [
           {
            "colorbar": {
             "outlinewidth": 0,
             "ticks": ""
            },
            "colorscale": [
             [
              0,
              "#0d0887"
             ],
             [
              0.1111111111111111,
              "#46039f"
             ],
             [
              0.2222222222222222,
              "#7201a8"
             ],
             [
              0.3333333333333333,
              "#9c179e"
             ],
             [
              0.4444444444444444,
              "#bd3786"
             ],
             [
              0.5555555555555556,
              "#d8576b"
             ],
             [
              0.6666666666666666,
              "#ed7953"
             ],
             [
              0.7777777777777778,
              "#fb9f3a"
             ],
             [
              0.8888888888888888,
              "#fdca26"
             ],
             [
              1,
              "#f0f921"
             ]
            ],
            "type": "surface"
           }
          ],
          "table": [
           {
            "cells": {
             "fill": {
              "color": "#EBF0F8"
             },
             "line": {
              "color": "white"
             }
            },
            "header": {
             "fill": {
              "color": "#C8D4E3"
             },
             "line": {
              "color": "white"
             }
            },
            "type": "table"
           }
          ]
         },
         "layout": {
          "annotationdefaults": {
           "arrowcolor": "#2a3f5f",
           "arrowhead": 0,
           "arrowwidth": 1
          },
          "autotypenumbers": "strict",
          "coloraxis": {
           "colorbar": {
            "outlinewidth": 0,
            "ticks": ""
           }
          },
          "colorscale": {
           "diverging": [
            [
             0,
             "#8e0152"
            ],
            [
             0.1,
             "#c51b7d"
            ],
            [
             0.2,
             "#de77ae"
            ],
            [
             0.3,
             "#f1b6da"
            ],
            [
             0.4,
             "#fde0ef"
            ],
            [
             0.5,
             "#f7f7f7"
            ],
            [
             0.6,
             "#e6f5d0"
            ],
            [
             0.7,
             "#b8e186"
            ],
            [
             0.8,
             "#7fbc41"
            ],
            [
             0.9,
             "#4d9221"
            ],
            [
             1,
             "#276419"
            ]
           ],
           "sequential": [
            [
             0,
             "#0d0887"
            ],
            [
             0.1111111111111111,
             "#46039f"
            ],
            [
             0.2222222222222222,
             "#7201a8"
            ],
            [
             0.3333333333333333,
             "#9c179e"
            ],
            [
             0.4444444444444444,
             "#bd3786"
            ],
            [
             0.5555555555555556,
             "#d8576b"
            ],
            [
             0.6666666666666666,
             "#ed7953"
            ],
            [
             0.7777777777777778,
             "#fb9f3a"
            ],
            [
             0.8888888888888888,
             "#fdca26"
            ],
            [
             1,
             "#f0f921"
            ]
           ],
           "sequentialminus": [
            [
             0,
             "#0d0887"
            ],
            [
             0.1111111111111111,
             "#46039f"
            ],
            [
             0.2222222222222222,
             "#7201a8"
            ],
            [
             0.3333333333333333,
             "#9c179e"
            ],
            [
             0.4444444444444444,
             "#bd3786"
            ],
            [
             0.5555555555555556,
             "#d8576b"
            ],
            [
             0.6666666666666666,
             "#ed7953"
            ],
            [
             0.7777777777777778,
             "#fb9f3a"
            ],
            [
             0.8888888888888888,
             "#fdca26"
            ],
            [
             1,
             "#f0f921"
            ]
           ]
          },
          "colorway": [
           "#636efa",
           "#EF553B",
           "#00cc96",
           "#ab63fa",
           "#FFA15A",
           "#19d3f3",
           "#FF6692",
           "#B6E880",
           "#FF97FF",
           "#FECB52"
          ],
          "font": {
           "color": "#2a3f5f"
          },
          "geo": {
           "bgcolor": "white",
           "lakecolor": "white",
           "landcolor": "#E5ECF6",
           "showlakes": true,
           "showland": true,
           "subunitcolor": "white"
          },
          "hoverlabel": {
           "align": "left"
          },
          "hovermode": "closest",
          "mapbox": {
           "style": "light"
          },
          "paper_bgcolor": "white",
          "plot_bgcolor": "#E5ECF6",
          "polar": {
           "angularaxis": {
            "gridcolor": "white",
            "linecolor": "white",
            "ticks": ""
           },
           "bgcolor": "#E5ECF6",
           "radialaxis": {
            "gridcolor": "white",
            "linecolor": "white",
            "ticks": ""
           }
          },
          "scene": {
           "xaxis": {
            "backgroundcolor": "#E5ECF6",
            "gridcolor": "white",
            "gridwidth": 2,
            "linecolor": "white",
            "showbackground": true,
            "ticks": "",
            "zerolinecolor": "white"
           },
           "yaxis": {
            "backgroundcolor": "#E5ECF6",
            "gridcolor": "white",
            "gridwidth": 2,
            "linecolor": "white",
            "showbackground": true,
            "ticks": "",
            "zerolinecolor": "white"
           },
           "zaxis": {
            "backgroundcolor": "#E5ECF6",
            "gridcolor": "white",
            "gridwidth": 2,
            "linecolor": "white",
            "showbackground": true,
            "ticks": "",
            "zerolinecolor": "white"
           }
          },
          "shapedefaults": {
           "line": {
            "color": "#2a3f5f"
           }
          },
          "ternary": {
           "aaxis": {
            "gridcolor": "white",
            "linecolor": "white",
            "ticks": ""
           },
           "baxis": {
            "gridcolor": "white",
            "linecolor": "white",
            "ticks": ""
           },
           "bgcolor": "#E5ECF6",
           "caxis": {
            "gridcolor": "white",
            "linecolor": "white",
            "ticks": ""
           }
          },
          "title": {
           "x": 0.05
          },
          "xaxis": {
           "automargin": true,
           "gridcolor": "white",
           "linecolor": "white",
           "ticks": "",
           "title": {
            "standoff": 15
           },
           "zerolinecolor": "white",
           "zerolinewidth": 2
          },
          "yaxis": {
           "automargin": true,
           "gridcolor": "white",
           "linecolor": "white",
           "ticks": "",
           "title": {
            "standoff": 15
           },
           "zerolinecolor": "white",
           "zerolinewidth": 2
          }
         }
        },
        "xaxis": {
         "anchor": "y",
         "domain": [
          0,
          1
         ],
         "title": {
          "text": "release_year"
         }
        },
        "yaxis": {
         "anchor": "x",
         "domain": [
          0,
          1
         ],
         "title": {
          "text": "show_id"
         }
        }
       }
      },
      "text/html": [
       "<div>                            <div id=\"fac2f745-8e30-4db5-ac5c-2eccd92e34ae\" class=\"plotly-graph-div\" style=\"height:525px; width:100%;\"></div>            <script type=\"text/javascript\">                require([\"plotly\"], function(Plotly) {                    window.PLOTLYENV=window.PLOTLYENV || {};                                    if (document.getElementById(\"fac2f745-8e30-4db5-ac5c-2eccd92e34ae\")) {                    Plotly.newPlot(                        \"fac2f745-8e30-4db5-ac5c-2eccd92e34ae\",                        [{\"hovertemplate\":\"<b>%{hovertext}</b><br><br>type=Movie<br>release_year=%{x}<br>show_id=%{y}<extra></extra>\",\"hovertext\":[1928.0,1932.0,1933.0,1934.0,1935.0,1936.0,1937.0,1938.0,1939.0,1940.0,1941.0,1942.0,1943.0,1944.0,1945.0,1946.0,1947.0,1948.0,1949.0,1950.0,1951.0,1952.0,1953.0,1954.0,1955.0,1956.0,1957.0,1959.0,1960.0,1961.0,1962.0,1963.0,1964.0,1965.0,1966.0,1967.0,1968.0,1969.0,1970.0,1971.0,1972.0,1973.0,1974.0,1975.0,1976.0,1977.0,1978.0,1979.0,1980.0,1981.0,1982.0,1983.0,1984.0,1985.0,1986.0,1987.0,1988.0,1989.0,1990.0,1991.0,1992.0,1993.0,1994.0,1995.0,1996.0,1997.0,1998.0,1999.0,2000.0,2001.0,2002.0,2003.0,2004.0,2005.0,2006.0,2007.0,2008.0,2009.0,2010.0,2011.0,2012.0,2013.0,2014.0,2015.0,2016.0,2017.0,2018.0,2019.0,2020.0,2021.0],\"legendgroup\":\"Movie\",\"marker\":{\"color\":\"#636efa\",\"symbol\":\"circle\"},\"mode\":\"markers\",\"name\":\"Movie\",\"orientation\":\"v\",\"showlegend\":true,\"x\":[1928,1932,1933,1934,1935,1936,1937,1938,1939,1940,1941,1942,1943,1944,1945,1946,1947,1948,1949,1950,1951,1952,1953,1954,1955,1956,1957,1959,1960,1961,1962,1963,1964,1965,1966,1967,1968,1969,1970,1971,1972,1973,1974,1975,1976,1977,1978,1979,1980,1981,1982,1983,1984,1985,1986,1987,1988,1989,1990,1991,1992,1993,1994,1995,1996,1997,1998,1999,2000,2001,2002,2003,2004,2005,2006,2007,2008,2009,2010,2011,2012,2013,2014,2015,2016,2017,2018,2019,2020,2021],\"xaxis\":\"x\",\"y\":[1,3,3,4,4,6,6,5,5,7,7,6,2,1,1,2,5,5,5,6,4,8,6,4,7,4,4,5,3,5,3,3,3,3,2,2,1,4,1,3,3,1,4,4,3,6,4,4,4,3,1,2,4,5,7,6,5,4,4,4,7,12,10,12,11,13,17,19,22,16,20,28,23,28,29,20,25,32,30,35,29,20,34,23,30,33,32,61,74,70],\"yaxis\":\"y\",\"type\":\"scatter\"},{\"hovertemplate\":\"<b>%{hovertext}</b><br><br>type=TV Show<br>release_year=%{x}<br>show_id=%{y}<extra></extra>\",\"hovertext\":[1955.0,1973.0,1976.0,1979.0,1982.0,1985.0,1988.0,1989.0,1990.0,1991.0,1992.0,1993.0,1994.0,1995.0,1996.0,1997.0,1998.0,1999.0,2000.0,2001.0,2002.0,2003.0,2004.0,2005.0,2006.0,2007.0,2008.0,2009.0,2010.0,2011.0,2012.0,2013.0,2014.0,2015.0,2016.0,2017.0,2018.0,2019.0,2020.0,2021.0],\"legendgroup\":\"TV Show\",\"marker\":{\"color\":\"#EF553B\",\"symbol\":\"circle\"},\"mode\":\"markers\",\"name\":\"TV Show\",\"orientation\":\"v\",\"showlegend\":true,\"x\":[1955,1973,1976,1979,1982,1985,1988,1989,1990,1991,1992,1993,1994,1995,1996,1997,1998,1999,2000,2001,2002,2003,2004,2005,2006,2007,2008,2009,2010,2011,2012,2013,2014,2015,2016,2017,2018,2019,2020,2021],\"xaxis\":\"x\",\"y\":[2,1,1,1,1,3,1,3,1,2,3,2,4,1,6,4,3,3,4,2,1,1,5,4,3,3,8,3,9,17,12,12,16,23,31,36,33,38,40,55],\"yaxis\":\"y\",\"type\":\"scatter\"}],                        {\"template\":{\"data\":{\"histogram2dcontour\":[{\"type\":\"histogram2dcontour\",\"colorbar\":{\"outlinewidth\":0,\"ticks\":\"\"},\"colorscale\":[[0.0,\"#0d0887\"],[0.1111111111111111,\"#46039f\"],[0.2222222222222222,\"#7201a8\"],[0.3333333333333333,\"#9c179e\"],[0.4444444444444444,\"#bd3786\"],[0.5555555555555556,\"#d8576b\"],[0.6666666666666666,\"#ed7953\"],[0.7777777777777778,\"#fb9f3a\"],[0.8888888888888888,\"#fdca26\"],[1.0,\"#f0f921\"]]}],\"choropleth\":[{\"type\":\"choropleth\",\"colorbar\":{\"outlinewidth\":0,\"ticks\":\"\"}}],\"histogram2d\":[{\"type\":\"histogram2d\",\"colorbar\":{\"outlinewidth\":0,\"ticks\":\"\"},\"colorscale\":[[0.0,\"#0d0887\"],[0.1111111111111111,\"#46039f\"],[0.2222222222222222,\"#7201a8\"],[0.3333333333333333,\"#9c179e\"],[0.4444444444444444,\"#bd3786\"],[0.5555555555555556,\"#d8576b\"],[0.6666666666666666,\"#ed7953\"],[0.7777777777777778,\"#fb9f3a\"],[0.8888888888888888,\"#fdca26\"],[1.0,\"#f0f921\"]]}],\"heatmap\":[{\"type\":\"heatmap\",\"colorbar\":{\"outlinewidth\":0,\"ticks\":\"\"},\"colorscale\":[[0.0,\"#0d0887\"],[0.1111111111111111,\"#46039f\"],[0.2222222222222222,\"#7201a8\"],[0.3333333333333333,\"#9c179e\"],[0.4444444444444444,\"#bd3786\"],[0.5555555555555556,\"#d8576b\"],[0.6666666666666666,\"#ed7953\"],[0.7777777777777778,\"#fb9f3a\"],[0.8888888888888888,\"#fdca26\"],[1.0,\"#f0f921\"]]}],\"heatmapgl\":[{\"type\":\"heatmapgl\",\"colorbar\":{\"outlinewidth\":0,\"ticks\":\"\"},\"colorscale\":[[0.0,\"#0d0887\"],[0.1111111111111111,\"#46039f\"],[0.2222222222222222,\"#7201a8\"],[0.3333333333333333,\"#9c179e\"],[0.4444444444444444,\"#bd3786\"],[0.5555555555555556,\"#d8576b\"],[0.6666666666666666,\"#ed7953\"],[0.7777777777777778,\"#fb9f3a\"],[0.8888888888888888,\"#fdca26\"],[1.0,\"#f0f921\"]]}],\"contourcarpet\":[{\"type\":\"contourcarpet\",\"colorbar\":{\"outlinewidth\":0,\"ticks\":\"\"}}],\"contour\":[{\"type\":\"contour\",\"colorbar\":{\"outlinewidth\":0,\"ticks\":\"\"},\"colorscale\":[[0.0,\"#0d0887\"],[0.1111111111111111,\"#46039f\"],[0.2222222222222222,\"#7201a8\"],[0.3333333333333333,\"#9c179e\"],[0.4444444444444444,\"#bd3786\"],[0.5555555555555556,\"#d8576b\"],[0.6666666666666666,\"#ed7953\"],[0.7777777777777778,\"#fb9f3a\"],[0.8888888888888888,\"#fdca26\"],[1.0,\"#f0f921\"]]}],\"surface\":[{\"type\":\"surface\",\"colorbar\":{\"outlinewidth\":0,\"ticks\":\"\"},\"colorscale\":[[0.0,\"#0d0887\"],[0.1111111111111111,\"#46039f\"],[0.2222222222222222,\"#7201a8\"],[0.3333333333333333,\"#9c179e\"],[0.4444444444444444,\"#bd3786\"],[0.5555555555555556,\"#d8576b\"],[0.6666666666666666,\"#ed7953\"],[0.7777777777777778,\"#fb9f3a\"],[0.8888888888888888,\"#fdca26\"],[1.0,\"#f0f921\"]]}],\"mesh3d\":[{\"type\":\"mesh3d\",\"colorbar\":{\"outlinewidth\":0,\"ticks\":\"\"}}],\"scatter\":[{\"fillpattern\":{\"fillmode\":\"overlay\",\"size\":10,\"solidity\":0.2},\"type\":\"scatter\"}],\"parcoords\":[{\"type\":\"parcoords\",\"line\":{\"colorbar\":{\"outlinewidth\":0,\"ticks\":\"\"}}}],\"scatterpolargl\":[{\"type\":\"scatterpolargl\",\"marker\":{\"colorbar\":{\"outlinewidth\":0,\"ticks\":\"\"}}}],\"bar\":[{\"error_x\":{\"color\":\"#2a3f5f\"},\"error_y\":{\"color\":\"#2a3f5f\"},\"marker\":{\"line\":{\"color\":\"#E5ECF6\",\"width\":0.5},\"pattern\":{\"fillmode\":\"overlay\",\"size\":10,\"solidity\":0.2}},\"type\":\"bar\"}],\"scattergeo\":[{\"type\":\"scattergeo\",\"marker\":{\"colorbar\":{\"outlinewidth\":0,\"ticks\":\"\"}}}],\"scatterpolar\":[{\"type\":\"scatterpolar\",\"marker\":{\"colorbar\":{\"outlinewidth\":0,\"ticks\":\"\"}}}],\"histogram\":[{\"marker\":{\"pattern\":{\"fillmode\":\"overlay\",\"size\":10,\"solidity\":0.2}},\"type\":\"histogram\"}],\"scattergl\":[{\"type\":\"scattergl\",\"marker\":{\"colorbar\":{\"outlinewidth\":0,\"ticks\":\"\"}}}],\"scatter3d\":[{\"type\":\"scatter3d\",\"line\":{\"colorbar\":{\"outlinewidth\":0,\"ticks\":\"\"}},\"marker\":{\"colorbar\":{\"outlinewidth\":0,\"ticks\":\"\"}}}],\"scattermapbox\":[{\"type\":\"scattermapbox\",\"marker\":{\"colorbar\":{\"outlinewidth\":0,\"ticks\":\"\"}}}],\"scatterternary\":[{\"type\":\"scatterternary\",\"marker\":{\"colorbar\":{\"outlinewidth\":0,\"ticks\":\"\"}}}],\"scattercarpet\":[{\"type\":\"scattercarpet\",\"marker\":{\"colorbar\":{\"outlinewidth\":0,\"ticks\":\"\"}}}],\"carpet\":[{\"aaxis\":{\"endlinecolor\":\"#2a3f5f\",\"gridcolor\":\"white\",\"linecolor\":\"white\",\"minorgridcolor\":\"white\",\"startlinecolor\":\"#2a3f5f\"},\"baxis\":{\"endlinecolor\":\"#2a3f5f\",\"gridcolor\":\"white\",\"linecolor\":\"white\",\"minorgridcolor\":\"white\",\"startlinecolor\":\"#2a3f5f\"},\"type\":\"carpet\"}],\"table\":[{\"cells\":{\"fill\":{\"color\":\"#EBF0F8\"},\"line\":{\"color\":\"white\"}},\"header\":{\"fill\":{\"color\":\"#C8D4E3\"},\"line\":{\"color\":\"white\"}},\"type\":\"table\"}],\"barpolar\":[{\"marker\":{\"line\":{\"color\":\"#E5ECF6\",\"width\":0.5},\"pattern\":{\"fillmode\":\"overlay\",\"size\":10,\"solidity\":0.2}},\"type\":\"barpolar\"}],\"pie\":[{\"automargin\":true,\"type\":\"pie\"}]},\"layout\":{\"autotypenumbers\":\"strict\",\"colorway\":[\"#636efa\",\"#EF553B\",\"#00cc96\",\"#ab63fa\",\"#FFA15A\",\"#19d3f3\",\"#FF6692\",\"#B6E880\",\"#FF97FF\",\"#FECB52\"],\"font\":{\"color\":\"#2a3f5f\"},\"hovermode\":\"closest\",\"hoverlabel\":{\"align\":\"left\"},\"paper_bgcolor\":\"white\",\"plot_bgcolor\":\"#E5ECF6\",\"polar\":{\"bgcolor\":\"#E5ECF6\",\"angularaxis\":{\"gridcolor\":\"white\",\"linecolor\":\"white\",\"ticks\":\"\"},\"radialaxis\":{\"gridcolor\":\"white\",\"linecolor\":\"white\",\"ticks\":\"\"}},\"ternary\":{\"bgcolor\":\"#E5ECF6\",\"aaxis\":{\"gridcolor\":\"white\",\"linecolor\":\"white\",\"ticks\":\"\"},\"baxis\":{\"gridcolor\":\"white\",\"linecolor\":\"white\",\"ticks\":\"\"},\"caxis\":{\"gridcolor\":\"white\",\"linecolor\":\"white\",\"ticks\":\"\"}},\"coloraxis\":{\"colorbar\":{\"outlinewidth\":0,\"ticks\":\"\"}},\"colorscale\":{\"sequential\":[[0.0,\"#0d0887\"],[0.1111111111111111,\"#46039f\"],[0.2222222222222222,\"#7201a8\"],[0.3333333333333333,\"#9c179e\"],[0.4444444444444444,\"#bd3786\"],[0.5555555555555556,\"#d8576b\"],[0.6666666666666666,\"#ed7953\"],[0.7777777777777778,\"#fb9f3a\"],[0.8888888888888888,\"#fdca26\"],[1.0,\"#f0f921\"]],\"sequentialminus\":[[0.0,\"#0d0887\"],[0.1111111111111111,\"#46039f\"],[0.2222222222222222,\"#7201a8\"],[0.3333333333333333,\"#9c179e\"],[0.4444444444444444,\"#bd3786\"],[0.5555555555555556,\"#d8576b\"],[0.6666666666666666,\"#ed7953\"],[0.7777777777777778,\"#fb9f3a\"],[0.8888888888888888,\"#fdca26\"],[1.0,\"#f0f921\"]],\"diverging\":[[0,\"#8e0152\"],[0.1,\"#c51b7d\"],[0.2,\"#de77ae\"],[0.3,\"#f1b6da\"],[0.4,\"#fde0ef\"],[0.5,\"#f7f7f7\"],[0.6,\"#e6f5d0\"],[0.7,\"#b8e186\"],[0.8,\"#7fbc41\"],[0.9,\"#4d9221\"],[1,\"#276419\"]]},\"xaxis\":{\"gridcolor\":\"white\",\"linecolor\":\"white\",\"ticks\":\"\",\"title\":{\"standoff\":15},\"zerolinecolor\":\"white\",\"automargin\":true,\"zerolinewidth\":2},\"yaxis\":{\"gridcolor\":\"white\",\"linecolor\":\"white\",\"ticks\":\"\",\"title\":{\"standoff\":15},\"zerolinecolor\":\"white\",\"automargin\":true,\"zerolinewidth\":2},\"scene\":{\"xaxis\":{\"backgroundcolor\":\"#E5ECF6\",\"gridcolor\":\"white\",\"linecolor\":\"white\",\"showbackground\":true,\"ticks\":\"\",\"zerolinecolor\":\"white\",\"gridwidth\":2},\"yaxis\":{\"backgroundcolor\":\"#E5ECF6\",\"gridcolor\":\"white\",\"linecolor\":\"white\",\"showbackground\":true,\"ticks\":\"\",\"zerolinecolor\":\"white\",\"gridwidth\":2},\"zaxis\":{\"backgroundcolor\":\"#E5ECF6\",\"gridcolor\":\"white\",\"linecolor\":\"white\",\"showbackground\":true,\"ticks\":\"\",\"zerolinecolor\":\"white\",\"gridwidth\":2}},\"shapedefaults\":{\"line\":{\"color\":\"#2a3f5f\"}},\"annotationdefaults\":{\"arrowcolor\":\"#2a3f5f\",\"arrowhead\":0,\"arrowwidth\":1},\"geo\":{\"bgcolor\":\"white\",\"landcolor\":\"#E5ECF6\",\"subunitcolor\":\"white\",\"showland\":true,\"showlakes\":true,\"lakecolor\":\"white\"},\"title\":{\"x\":0.05},\"mapbox\":{\"style\":\"light\"}}},\"xaxis\":{\"anchor\":\"y\",\"domain\":[0.0,1.0],\"title\":{\"text\":\"release_year\"}},\"yaxis\":{\"anchor\":\"x\",\"domain\":[0.0,1.0],\"title\":{\"text\":\"show_id\"}},\"legend\":{\"title\":{\"text\":\"type\"},\"tracegroupgap\":0},\"margin\":{\"t\":60}},                        {\"responsive\": true}                    ).then(function(){\n",
       "                            \n",
       "var gd = document.getElementById('fac2f745-8e30-4db5-ac5c-2eccd92e34ae');\n",
       "var x = new MutationObserver(function (mutations, observer) {{\n",
       "        var display = window.getComputedStyle(gd).display;\n",
       "        if (!display || display === 'none') {{\n",
       "            console.log([gd, 'removed!']);\n",
       "            Plotly.purge(gd);\n",
       "            observer.disconnect();\n",
       "        }}\n",
       "}});\n",
       "\n",
       "// Listen for the removal of the full notebook cells\n",
       "var notebookContainer = gd.closest('#notebook-container');\n",
       "if (notebookContainer) {{\n",
       "    x.observe(notebookContainer, {childList: true});\n",
       "}}\n",
       "\n",
       "// Listen for the clearing of the current output cell\n",
       "var outputEl = gd.closest('.output');\n",
       "if (outputEl) {{\n",
       "    x.observe(outputEl, {childList: true});\n",
       "}}\n",
       "\n",
       "                        })                };                });            </script>        </div>"
      ]
     },
     "metadata": {},
     "output_type": "display_data"
    },
    {
     "data": {
      "text/plain": [
       "<Figure size 2500x1500 with 0 Axes>"
      ]
     },
     "metadata": {},
     "output_type": "display_data"
    }
   ],
   "source": [
    "\n",
    "plt.figure(figsize=(25,15))\n",
    "\n",
    "\n",
    "fig = px.scatter(df_grouped_type_per_year, x=\"release_year\", y=\"show_id\", color=\"type\", hover_name=\"release_year\")\n",
    "\n",
    "fig.show()\n",
    "\n"
   ]
  },
  {
   "cell_type": "code",
   "execution_count": 10,
   "id": "1f51a251",
   "metadata": {
    "scrolled": true
   },
   "outputs": [
    {
     "data": {
      "text/html": [
       "<div>\n",
       "<style scoped>\n",
       "    .dataframe tbody tr th:only-of-type {\n",
       "        vertical-align: middle;\n",
       "    }\n",
       "\n",
       "    .dataframe tbody tr th {\n",
       "        vertical-align: top;\n",
       "    }\n",
       "\n",
       "    .dataframe thead th {\n",
       "        text-align: right;\n",
       "    }\n",
       "</style>\n",
       "<table border=\"1\" class=\"dataframe\">\n",
       "  <thead>\n",
       "    <tr style=\"text-align: right;\">\n",
       "      <th></th>\n",
       "      <th>show_id</th>\n",
       "      <th>type</th>\n",
       "      <th>title</th>\n",
       "      <th>director</th>\n",
       "      <th>cast</th>\n",
       "      <th>country</th>\n",
       "      <th>date_added</th>\n",
       "      <th>release_year</th>\n",
       "      <th>rating</th>\n",
       "      <th>duration</th>\n",
       "      <th>listed_in</th>\n",
       "      <th>description</th>\n",
       "    </tr>\n",
       "  </thead>\n",
       "  <tbody>\n",
       "    <tr>\n",
       "      <th>0</th>\n",
       "      <td>s1</td>\n",
       "      <td>Movie</td>\n",
       "      <td>Duck the Halls: A Mickey Mouse Christmas Special</td>\n",
       "      <td>Alonso Ramirez Ramos, Dave Wasson</td>\n",
       "      <td>Chris Diamantopoulos, Tony Anselmo, Tress MacN...</td>\n",
       "      <td>NaN</td>\n",
       "      <td>November 26, 2021</td>\n",
       "      <td>2016</td>\n",
       "      <td>TV-G</td>\n",
       "      <td>23 min</td>\n",
       "      <td>Animation, Family</td>\n",
       "      <td>Join Mickey and the gang as they duck the halls!</td>\n",
       "    </tr>\n",
       "    <tr>\n",
       "      <th>1</th>\n",
       "      <td>s2</td>\n",
       "      <td>Movie</td>\n",
       "      <td>Ernest Saves Christmas</td>\n",
       "      <td>John Cherry</td>\n",
       "      <td>Jim Varney, Noelle Parker, Douglas Seale</td>\n",
       "      <td>NaN</td>\n",
       "      <td>November 26, 2021</td>\n",
       "      <td>1988</td>\n",
       "      <td>PG</td>\n",
       "      <td>91 min</td>\n",
       "      <td>Comedy</td>\n",
       "      <td>Santa Claus passes his magic bag to a new St. ...</td>\n",
       "    </tr>\n",
       "    <tr>\n",
       "      <th>2</th>\n",
       "      <td>s3</td>\n",
       "      <td>Movie</td>\n",
       "      <td>Ice Age: A Mammoth Christmas</td>\n",
       "      <td>Karen Disher</td>\n",
       "      <td>Raymond Albert Romano, John Leguizamo, Denis L...</td>\n",
       "      <td>United States</td>\n",
       "      <td>November 26, 2021</td>\n",
       "      <td>2011</td>\n",
       "      <td>TV-G</td>\n",
       "      <td>23 min</td>\n",
       "      <td>Animation, Comedy, Family</td>\n",
       "      <td>Sid the Sloth is on Santa's naughty list.</td>\n",
       "    </tr>\n",
       "    <tr>\n",
       "      <th>3</th>\n",
       "      <td>s4</td>\n",
       "      <td>Movie</td>\n",
       "      <td>The Queen Family Singalong</td>\n",
       "      <td>Hamish Hamilton</td>\n",
       "      <td>Darren Criss, Adam Lambert, Derek Hough, Alexa...</td>\n",
       "      <td>NaN</td>\n",
       "      <td>November 26, 2021</td>\n",
       "      <td>2021</td>\n",
       "      <td>TV-PG</td>\n",
       "      <td>41 min</td>\n",
       "      <td>Musical</td>\n",
       "      <td>This is real life, not just fantasy!</td>\n",
       "    </tr>\n",
       "    <tr>\n",
       "      <th>5</th>\n",
       "      <td>s6</td>\n",
       "      <td>Movie</td>\n",
       "      <td>Becoming Cousteau</td>\n",
       "      <td>Liz Garbus</td>\n",
       "      <td>Jacques Yves Cousteau, Vincent Cassel</td>\n",
       "      <td>United States</td>\n",
       "      <td>November 24, 2021</td>\n",
       "      <td>2021</td>\n",
       "      <td>PG-13</td>\n",
       "      <td>94 min</td>\n",
       "      <td>Biographical, Documentary</td>\n",
       "      <td>An inside look at the legendary life of advent...</td>\n",
       "    </tr>\n",
       "    <tr>\n",
       "      <th>...</th>\n",
       "      <td>...</td>\n",
       "      <td>...</td>\n",
       "      <td>...</td>\n",
       "      <td>...</td>\n",
       "      <td>...</td>\n",
       "      <td>...</td>\n",
       "      <td>...</td>\n",
       "      <td>...</td>\n",
       "      <td>...</td>\n",
       "      <td>...</td>\n",
       "      <td>...</td>\n",
       "      <td>...</td>\n",
       "    </tr>\n",
       "    <tr>\n",
       "      <th>1445</th>\n",
       "      <td>s1446</td>\n",
       "      <td>Movie</td>\n",
       "      <td>X-Men Origins: Wolverine</td>\n",
       "      <td>Gavin Hood</td>\n",
       "      <td>Hugh Jackman, Liev Schreiber, Danny Huston, wi...</td>\n",
       "      <td>United States, United Kingdom</td>\n",
       "      <td>June 4, 2021</td>\n",
       "      <td>2009</td>\n",
       "      <td>PG-13</td>\n",
       "      <td>108 min</td>\n",
       "      <td>Action-Adventure, Family, Science Fiction</td>\n",
       "      <td>Wolverine unites with legendary X-Men to fight...</td>\n",
       "    </tr>\n",
       "    <tr>\n",
       "      <th>1446</th>\n",
       "      <td>s1447</td>\n",
       "      <td>Movie</td>\n",
       "      <td>Night at the Museum: Battle of the Smithsonian</td>\n",
       "      <td>Shawn Levy</td>\n",
       "      <td>Ben Stiller, Amy Adams, Owen Wilson, Hank Azar...</td>\n",
       "      <td>United States, Canada</td>\n",
       "      <td>April 2, 2021</td>\n",
       "      <td>2009</td>\n",
       "      <td>PG</td>\n",
       "      <td>106 min</td>\n",
       "      <td>Action-Adventure, Comedy, Family</td>\n",
       "      <td>Larry Daley returns to rescue some old friends...</td>\n",
       "    </tr>\n",
       "    <tr>\n",
       "      <th>1447</th>\n",
       "      <td>s1448</td>\n",
       "      <td>Movie</td>\n",
       "      <td>Eddie the Eagle</td>\n",
       "      <td>Dexter Fletcher</td>\n",
       "      <td>Tom Costello, Jo Hartley, Keith Allen, Dickon ...</td>\n",
       "      <td>United Kingdom, Germany, United States</td>\n",
       "      <td>December 18, 2020</td>\n",
       "      <td>2016</td>\n",
       "      <td>PG-13</td>\n",
       "      <td>107 min</td>\n",
       "      <td>Biographical, Comedy, Drama</td>\n",
       "      <td>True story of Eddie Edwards, a British ski-jum...</td>\n",
       "    </tr>\n",
       "    <tr>\n",
       "      <th>1448</th>\n",
       "      <td>s1449</td>\n",
       "      <td>Movie</td>\n",
       "      <td>Bend It Like Beckham</td>\n",
       "      <td>Gurinder Chadha</td>\n",
       "      <td>Parminder Nagra, Keira Knightley, Jonathan Rhy...</td>\n",
       "      <td>United Kingdom, Germany, United States</td>\n",
       "      <td>September 18, 2020</td>\n",
       "      <td>2003</td>\n",
       "      <td>PG-13</td>\n",
       "      <td>112 min</td>\n",
       "      <td>Buddy, Comedy, Coming of Age</td>\n",
       "      <td>Despite the wishes of their traditional famili...</td>\n",
       "    </tr>\n",
       "    <tr>\n",
       "      <th>1449</th>\n",
       "      <td>s1450</td>\n",
       "      <td>Movie</td>\n",
       "      <td>Captain Sparky vs. The Flying Saucers</td>\n",
       "      <td>Mark Waring</td>\n",
       "      <td>Charlie Tahan</td>\n",
       "      <td>United States</td>\n",
       "      <td>April 1, 2020</td>\n",
       "      <td>2012</td>\n",
       "      <td>TV-G</td>\n",
       "      <td>2 min</td>\n",
       "      <td>Action-Adventure, Animals &amp; Nature, Animation</td>\n",
       "      <td>View one of Sparky's favorite home movies.</td>\n",
       "    </tr>\n",
       "  </tbody>\n",
       "</table>\n",
       "<p>1052 rows × 12 columns</p>\n",
       "</div>"
      ],
      "text/plain": [
       "     show_id   type                                             title  \\\n",
       "0         s1  Movie  Duck the Halls: A Mickey Mouse Christmas Special   \n",
       "1         s2  Movie                            Ernest Saves Christmas   \n",
       "2         s3  Movie                      Ice Age: A Mammoth Christmas   \n",
       "3         s4  Movie                        The Queen Family Singalong   \n",
       "5         s6  Movie                                 Becoming Cousteau   \n",
       "...      ...    ...                                               ...   \n",
       "1445   s1446  Movie                          X-Men Origins: Wolverine   \n",
       "1446   s1447  Movie    Night at the Museum: Battle of the Smithsonian   \n",
       "1447   s1448  Movie                                   Eddie the Eagle   \n",
       "1448   s1449  Movie                              Bend It Like Beckham   \n",
       "1449   s1450  Movie             Captain Sparky vs. The Flying Saucers   \n",
       "\n",
       "                               director  \\\n",
       "0     Alonso Ramirez Ramos, Dave Wasson   \n",
       "1                           John Cherry   \n",
       "2                          Karen Disher   \n",
       "3                       Hamish Hamilton   \n",
       "5                            Liz Garbus   \n",
       "...                                 ...   \n",
       "1445                         Gavin Hood   \n",
       "1446                         Shawn Levy   \n",
       "1447                    Dexter Fletcher   \n",
       "1448                    Gurinder Chadha   \n",
       "1449                        Mark Waring   \n",
       "\n",
       "                                                   cast  \\\n",
       "0     Chris Diamantopoulos, Tony Anselmo, Tress MacN...   \n",
       "1              Jim Varney, Noelle Parker, Douglas Seale   \n",
       "2     Raymond Albert Romano, John Leguizamo, Denis L...   \n",
       "3     Darren Criss, Adam Lambert, Derek Hough, Alexa...   \n",
       "5                 Jacques Yves Cousteau, Vincent Cassel   \n",
       "...                                                 ...   \n",
       "1445  Hugh Jackman, Liev Schreiber, Danny Huston, wi...   \n",
       "1446  Ben Stiller, Amy Adams, Owen Wilson, Hank Azar...   \n",
       "1447  Tom Costello, Jo Hartley, Keith Allen, Dickon ...   \n",
       "1448  Parminder Nagra, Keira Knightley, Jonathan Rhy...   \n",
       "1449                                      Charlie Tahan   \n",
       "\n",
       "                                     country          date_added  \\\n",
       "0                                        NaN   November 26, 2021   \n",
       "1                                        NaN   November 26, 2021   \n",
       "2                              United States   November 26, 2021   \n",
       "3                                        NaN   November 26, 2021   \n",
       "5                              United States   November 24, 2021   \n",
       "...                                      ...                 ...   \n",
       "1445           United States, United Kingdom        June 4, 2021   \n",
       "1446                   United States, Canada       April 2, 2021   \n",
       "1447  United Kingdom, Germany, United States   December 18, 2020   \n",
       "1448  United Kingdom, Germany, United States  September 18, 2020   \n",
       "1449                           United States       April 1, 2020   \n",
       "\n",
       "      release_year rating duration  \\\n",
       "0             2016   TV-G   23 min   \n",
       "1             1988     PG   91 min   \n",
       "2             2011   TV-G   23 min   \n",
       "3             2021  TV-PG   41 min   \n",
       "5             2021  PG-13   94 min   \n",
       "...            ...    ...      ...   \n",
       "1445          2009  PG-13  108 min   \n",
       "1446          2009     PG  106 min   \n",
       "1447          2016  PG-13  107 min   \n",
       "1448          2003  PG-13  112 min   \n",
       "1449          2012   TV-G    2 min   \n",
       "\n",
       "                                          listed_in  \\\n",
       "0                                 Animation, Family   \n",
       "1                                            Comedy   \n",
       "2                         Animation, Comedy, Family   \n",
       "3                                           Musical   \n",
       "5                         Biographical, Documentary   \n",
       "...                                             ...   \n",
       "1445      Action-Adventure, Family, Science Fiction   \n",
       "1446               Action-Adventure, Comedy, Family   \n",
       "1447                    Biographical, Comedy, Drama   \n",
       "1448                   Buddy, Comedy, Coming of Age   \n",
       "1449  Action-Adventure, Animals & Nature, Animation   \n",
       "\n",
       "                                            description  \n",
       "0      Join Mickey and the gang as they duck the halls!  \n",
       "1     Santa Claus passes his magic bag to a new St. ...  \n",
       "2             Sid the Sloth is on Santa's naughty list.  \n",
       "3                  This is real life, not just fantasy!  \n",
       "5     An inside look at the legendary life of advent...  \n",
       "...                                                 ...  \n",
       "1445  Wolverine unites with legendary X-Men to fight...  \n",
       "1446  Larry Daley returns to rescue some old friends...  \n",
       "1447  True story of Eddie Edwards, a British ski-jum...  \n",
       "1448  Despite the wishes of their traditional famili...  \n",
       "1449         View one of Sparky's favorite home movies.  \n",
       "\n",
       "[1052 rows x 12 columns]"
      ]
     },
     "execution_count": 10,
     "metadata": {},
     "output_type": "execute_result"
    }
   ],
   "source": [
    "df_movies = df.query(\"type == 'Movie' \")\n",
    "df_movies"
   ]
  },
  {
   "cell_type": "code",
   "execution_count": 11,
   "id": "53391685",
   "metadata": {},
   "outputs": [
    {
     "data": {
      "text/plain": [
       "show_id         object\n",
       "type            object\n",
       "title           object\n",
       "director        object\n",
       "cast            object\n",
       "country         object\n",
       "date_added      object\n",
       "release_year     int64\n",
       "rating          object\n",
       "duration        object\n",
       "listed_in       object\n",
       "description     object\n",
       "dtype: object"
      ]
     },
     "execution_count": 11,
     "metadata": {},
     "output_type": "execute_result"
    }
   ],
   "source": [
    "df_movies.dtypes"
   ]
  },
  {
   "cell_type": "code",
   "execution_count": null,
   "id": "15e19bdd",
   "metadata": {},
   "outputs": [],
   "source": [
    "# need to change duration from string to number\n",
    "\n"
   ]
  },
  {
   "cell_type": "code",
   "execution_count": null,
   "id": "8b833565",
   "metadata": {},
   "outputs": [],
   "source": []
  }
 ],
 "metadata": {
  "kernelspec": {
   "display_name": "Python 3 (ipykernel)",
   "language": "python",
   "name": "python3"
  },
  "language_info": {
   "codemirror_mode": {
    "name": "ipython",
    "version": 3
   },
   "file_extension": ".py",
   "mimetype": "text/x-python",
   "name": "python",
   "nbconvert_exporter": "python",
   "pygments_lexer": "ipython3",
   "version": "3.10.9"
  }
 },
 "nbformat": 4,
 "nbformat_minor": 5
}
